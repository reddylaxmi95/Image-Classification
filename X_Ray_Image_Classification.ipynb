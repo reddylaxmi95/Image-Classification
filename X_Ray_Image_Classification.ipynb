{
 "cells": [
  {
   "cell_type": "code",
   "execution_count": 4,
   "metadata": {
    "colab": {
     "base_uri": "https://localhost:8080/"
    },
    "id": "RW-fSgqQAthE",
    "outputId": "2bdc5e0f-c20f-4948-a861-a91795ff7942"
   },
   "outputs": [
    {
     "name": "stdout",
     "output_type": "stream",
     "text": [
      "Drive already mounted at /content/drive; to attempt to forcibly remount, call drive.mount(\"/content/drive\", force_remount=True).\n"
     ]
    }
   ],
   "source": [
    "from google.colab import drive\n",
    "drive.mount('/content/drive')"
   ]
  },
  {
   "cell_type": "code",
   "execution_count": 3,
   "metadata": {
    "id": "QsF6raJeiM1W"
   },
   "outputs": [],
   "source": [
    "import pandas as pd\n",
    "import numpy as np\n",
    "import os\n",
    "from warnings import filterwarnings\n",
    "filterwarnings('ignore')\n",
    "\n",
    "from matplotlib import pyplot as plt\n",
    "plt.rcParams['figure.figsize'] = [8,8]\n"
   ]
  },
  {
   "cell_type": "code",
   "execution_count": null,
   "metadata": {
    "id": "IdQ79Br1C2T3"
   },
   "outputs": [],
   "source": [
    "#code to unzip the zipped folder\n",
    "#!unzip '/content/drive/MyDrive/ML Projects/Covid X-Ray Image Classification/train/train.zip' -d '/content/drive/MyDrive/ML Projects/Covid X-Ray Image Classification/train'"
   ]
  },
  {
   "cell_type": "markdown",
   "metadata": {
    "id": "wSe_fR_SK7LG"
   },
   "source": [
    "`The DataSet consists of the X-Ray Images and both the positive and negative X-Ray images are saved in a single folder. Therefore here we don't have a folder structure which differentiates the 2 classes. But there is a .txt file provided which has the details of the filename(image name) with the status and source which will be used for loading the dataset`\n",
    "\n",
    "\n",
    "\n"
   ]
  },
  {
   "cell_type": "code",
   "execution_count": 5,
   "metadata": {
    "colab": {
     "base_uri": "https://localhost:8080/"
    },
    "id": "1SWUWl939ynA",
    "outputId": "8b4e0a5f-db4e-4258-939a-379430fd9c65"
   },
   "outputs": [
    {
     "name": "stdout",
     "output_type": "stream",
     "text": [
      "Shape: (15951, 4) \n",
      " negative    13793\n",
      "positive     2158\n",
      "Name: Status, dtype: int64\n"
     ]
    }
   ],
   "source": [
    "#checkign the txt file of the training data\n",
    "train = pd.read_csv('/content/drive/MyDrive/ML Projects/Covid X-Ray Image Classification/Text1.txt', sep=\" \", header = None)\n",
    "train.columns = ['SL.NO','FileName','Status','Source']\n",
    "print('Shape:', train.shape,'\\n',train.Status.value_counts())\n"
   ]
  },
  {
   "cell_type": "code",
   "execution_count": 6,
   "metadata": {
    "colab": {
     "base_uri": "https://localhost:8080/"
    },
    "id": "gS2Zubzz-6Mv",
    "outputId": "9eee1448-1ae0-4cf0-a052-2aef70c7d2a6"
   },
   "outputs": [
    {
     "name": "stdout",
     "output_type": "stream",
     "text": [
      "Shape: (400, 4) \n",
      " negative    200\n",
      "positive    200\n",
      "Name: Status, dtype: int64\n"
     ]
    }
   ],
   "source": [
    "#checkign the txt file of the testing data\n",
    "test = pd.read_csv('/content/drive/MyDrive/ML Projects/Covid X-Ray Image Classification/Test.txt',sep=\" \", header = None)\n",
    "test.columns = ['SL.NO','FileName','Status','Source']\n",
    "print('Shape:', test.shape,'\\n',test.Status.value_counts())"
   ]
  },
  {
   "cell_type": "markdown",
   "metadata": {
    "id": "KIvFEOIuMT5w"
   },
   "source": [
    "\n",
    "\n",
    "```\n",
    "Trainging data consists of 15951 X-ray images with 13793 images into positive class and 2158 images into negative class\n",
    "```\n",
    "\n"
   ]
  },
  {
   "cell_type": "code",
   "execution_count": 5,
   "metadata": {
    "colab": {
     "base_uri": "https://localhost:8080/",
     "height": 513
    },
    "id": "_2QyXrTVK4mc",
    "outputId": "4e7b8eab-1fdf-46c4-ef86-d29febde422c"
   },
   "outputs": [
    {
     "data": {
      "image/png": "[encoded data removed]",
      "text/plain": [
       "<Figure size 576x576 with 1 Axes>"
      ]
     },
     "metadata": {},
     "output_type": "display_data"
    }
   ],
   "source": [
    "import seaborn as sns\n",
    "from matplotlib import pyplot\n",
    "sns.set_style('darkgrid')\n",
    "sns.countplot(train['Status'])\n",
    "plt.title('Distribution of the dependent variable')\n",
    "neg = round(train['Status'].value_counts()['negative'].sum()*100/train['Status'].value_counts().sum(),2)\n",
    "pos = round(train['Status'].value_counts()['positive'].sum()*100/train['Status'].value_counts().sum(),2)\n",
    "plt.text(x=-0.1, y=14000,s= str(neg)+'%')\n",
    "plt.text(x=0.9,y=2200,s = str(pos)+'%')\n",
    "\n",
    "plt.show()\n"
   ]
  },
  {
   "cell_type": "code",
   "execution_count": 7,
   "metadata": {
    "id": "MR8CPbK2NI13"
   },
   "outputs": [],
   "source": [
    "#we'll not be using the SL.No and the Source columns so they'll be deleted\n",
    "train.head()\n",
    "train = train.drop(['SL.NO','Source'],axis=1)\n",
    "test = test.drop(['SL.NO','Source'],axis=1)"
   ]
  },
  {
   "cell_type": "code",
   "execution_count": 8,
   "metadata": {
    "colab": {
     "base_uri": "https://localhost:8080/"
    },
    "id": "2kw0a6uqRPzD",
    "outputId": "63d68a47-8c79-4653-e408-15a31fb7bc59"
   },
   "outputs": [
    {
     "data": {
      "text/plain": [
       "(                                         FileName    Status\n",
       " 0                                  ARDSSevere.png  negative\n",
       " 1  acute-respiratory-distress-syndrome-ards-1.jpg  negative\n",
       " 2    acute-respiratory-distress-syndrome-ards.jpg  negative\n",
       " 3          ards-secondary-to-tiger-snake-bite.png  negative\n",
       " 4                 pneumocystis-pneumonia-2-PA.png  negative,\n",
       "                                     FileName    Status\n",
       " 0  MIDRC-RICORD-1C-419639-003251-46647-0.png  positive\n",
       " 1  MIDRC-RICORD-1C-419639-001464-39871-0.png  positive\n",
       " 2  MIDRC-RICORD-1C-419639-000918-78965-0.png  positive\n",
       " 3  MIDRC-RICORD-1C-419639-003318-64285-0.png  positive\n",
       " 4  MIDRC-RICORD-1C-419639-001015-81591-0.png  positive)"
      ]
     },
     "execution_count": 8,
     "metadata": {},
     "output_type": "execute_result"
    }
   ],
   "source": [
    "train.head(), test.head()"
   ]
  },
  {
   "cell_type": "markdown",
   "metadata": {
    "id": "K4WGiSQWRzze"
   },
   "source": [
    "\n",
    "\n",
    "```\n",
    "In order to read the images from the path we'll be concatenating the 'FileName' column wiht the folder path where the files are located\n",
    "```\n",
    "\n"
   ]
  },
  {
   "cell_type": "code",
   "execution_count": 9,
   "metadata": {
    "id": "RZ62_iecRoOl"
   },
   "outputs": [],
   "source": [
    "training_imgs_path = '/content/drive/MyDrive/ML Projects/Covid X-Ray Image Classification/train/'\n",
    "testing_imgs_path = '/content/drive/MyDrive/ML Projects/Covid X-Ray Image Classification/test/test.zip (Unzipped Files)/'\n",
    "train['FileName'] = training_imgs_path + train['FileName']\n",
    "test['FileName'] = testing_imgs_path + test['FileName']"
   ]
  },
  {
   "cell_type": "code",
   "execution_count": 10,
   "metadata": {
    "colab": {
     "base_uri": "https://localhost:8080/"
    },
    "id": "Xzt2FHSqS45G",
    "outputId": "624241c8-d836-410c-be01-1196901abbef"
   },
   "outputs": [
    {
     "data": {
      "text/plain": [
       "(                                            FileName    Status\n",
       " 0  /content/drive/MyDrive/ML Projects/Covid X-Ray...  negative\n",
       " 1  /content/drive/MyDrive/ML Projects/Covid X-Ray...  negative\n",
       " 2  /content/drive/MyDrive/ML Projects/Covid X-Ray...  negative\n",
       " 3  /content/drive/MyDrive/ML Projects/Covid X-Ray...  negative\n",
       " 4  /content/drive/MyDrive/ML Projects/Covid X-Ray...  negative,\n",
       "                                             FileName    Status\n",
       " 0  /content/drive/MyDrive/ML Projects/Covid X-Ray...  positive\n",
       " 1  /content/drive/MyDrive/ML Projects/Covid X-Ray...  positive\n",
       " 2  /content/drive/MyDrive/ML Projects/Covid X-Ray...  positive\n",
       " 3  /content/drive/MyDrive/ML Projects/Covid X-Ray...  positive\n",
       " 4  /content/drive/MyDrive/ML Projects/Covid X-Ray...  positive)"
      ]
     },
     "execution_count": 10,
     "metadata": {},
     "output_type": "execute_result"
    }
   ],
   "source": [
    "train.head(), test.head()"
   ]
  },
  {
   "cell_type": "code",
   "execution_count": 10,
   "metadata": {
    "colab": {
     "base_uri": "https://localhost:8080/"
    },
    "id": "DYzXcGLLS7Nf",
    "outputId": "09fc15bb-44b3-4d8f-e339-da74f80a891e"
   },
   "outputs": [
    {
     "data": {
      "text/plain": [
       "negative    13793\n",
       "positive     2158\n",
       "Name: Status, dtype: int64"
      ]
     },
     "execution_count": 10,
     "metadata": {},
     "output_type": "execute_result"
    }
   ],
   "source": [
    "train.Status.value_counts()"
   ]
  },
  {
   "cell_type": "markdown",
   "metadata": {
    "id": "NAFSpc9qTI2R"
   },
   "source": [
    "\n",
    "\n",
    "```\n",
    "since the dependent class is imbalanced the majority class will be bringing down to minority class, we'll be applying the undersampling\n",
    "```\n",
    "\n"
   ]
  },
  {
   "cell_type": "code",
   "execution_count": 11,
   "metadata": {
    "colab": {
     "base_uri": "https://localhost:8080/"
    },
    "id": "3saP7N4xTG2a",
    "outputId": "4848bf37-379b-4e7e-fd55-87e510b9b9bd"
   },
   "outputs": [
    {
     "data": {
      "text/plain": [
       "negative    2158\n",
       "positive    2158\n",
       "Name: Status, dtype: int64"
      ]
     },
     "execution_count": 11,
     "metadata": {},
     "output_type": "execute_result"
    }
   ],
   "source": [
    "neg1 = train[train.Status.eq('negative')].sample(2158)\n",
    "pos1 = train[train.Status.eq('positive')].sample(2158)\n",
    "train_1 = neg1.append(pos1)\n",
    "train_1.Status.value_counts()"
   ]
  },
  {
   "cell_type": "code",
   "execution_count": 12,
   "metadata": {
    "colab": {
     "base_uri": "https://localhost:8080/",
     "height": 206
    },
    "id": "T4yB35FxgGnV",
    "outputId": "4e02bcc5-c7fa-4074-f6ca-94fbc333f3a1"
   },
   "outputs": [
    {
     "data": {
      "text/html": [
       "<div>\n",
       "<style scoped>\n",
       "    .dataframe tbody tr th:only-of-type {\n",
       "        vertical-align: middle;\n",
       "    }\n",
       "\n",
       "    .dataframe tbody tr th {\n",
       "        vertical-align: top;\n",
       "    }\n",
       "\n",
       "    .dataframe thead th {\n",
       "        text-align: right;\n",
       "    }\n",
       "</style>\n",
       "<table border=\"1\" class=\"dataframe\">\n",
       "  <thead>\n",
       "    <tr style=\"text-align: right;\">\n",
       "      <th></th>\n",
       "      <th>FileName</th>\n",
       "      <th>Status</th>\n",
       "    </tr>\n",
       "  </thead>\n",
       "  <tbody>\n",
       "    <tr>\n",
       "      <th>7584</th>\n",
       "      <td>/content/drive/MyDrive/ML Projects/Covid X-Ray...</td>\n",
       "      <td>negative</td>\n",
       "    </tr>\n",
       "    <tr>\n",
       "      <th>10245</th>\n",
       "      <td>/content/drive/MyDrive/ML Projects/Covid X-Ray...</td>\n",
       "      <td>negative</td>\n",
       "    </tr>\n",
       "    <tr>\n",
       "      <th>12729</th>\n",
       "      <td>/content/drive/MyDrive/ML Projects/Covid X-Ray...</td>\n",
       "      <td>negative</td>\n",
       "    </tr>\n",
       "    <tr>\n",
       "      <th>6320</th>\n",
       "      <td>/content/drive/MyDrive/ML Projects/Covid X-Ray...</td>\n",
       "      <td>negative</td>\n",
       "    </tr>\n",
       "    <tr>\n",
       "      <th>15087</th>\n",
       "      <td>/content/drive/MyDrive/ML Projects/Covid X-Ray...</td>\n",
       "      <td>negative</td>\n",
       "    </tr>\n",
       "  </tbody>\n",
       "</table>\n",
       "</div>"
      ],
      "text/plain": [
       "                                                FileName    Status\n",
       "7584   /content/drive/MyDrive/ML Projects/Covid X-Ray...  negative\n",
       "10245  /content/drive/MyDrive/ML Projects/Covid X-Ray...  negative\n",
       "12729  /content/drive/MyDrive/ML Projects/Covid X-Ray...  negative\n",
       "6320   /content/drive/MyDrive/ML Projects/Covid X-Ray...  negative\n",
       "15087  /content/drive/MyDrive/ML Projects/Covid X-Ray...  negative"
      ]
     },
     "execution_count": 12,
     "metadata": {},
     "output_type": "execute_result"
    }
   ],
   "source": [
    "train_1.head()"
   ]
  },
  {
   "cell_type": "code",
   "execution_count": 13,
   "metadata": {
    "id": "gyUlURKpVRBQ"
   },
   "outputs": [],
   "source": [
    "from sklearn.model_selection import train_test_split\n",
    "X_train1, val1 = train_test_split(train_1,test_size=0.2,stratify = train_1['Status'], random_state=10)\n"
   ]
  },
  {
   "cell_type": "code",
   "execution_count": 14,
   "metadata": {
    "colab": {
     "base_uri": "https://localhost:8080/"
    },
    "id": "hIuH-DCfc5zu",
    "outputId": "3c5de393-4cae-47fc-bad3-041feac4b4ef"
   },
   "outputs": [
    {
     "data": {
      "text/plain": [
       "((3452, 2), (864, 2))"
      ]
     },
     "execution_count": 14,
     "metadata": {},
     "output_type": "execute_result"
    }
   ],
   "source": [
    "X_train1.shape, val1.shape"
   ]
  },
  {
   "cell_type": "code",
   "execution_count": 15,
   "metadata": {
    "colab": {
     "base_uri": "https://localhost:8080/",
     "height": 423
    },
    "id": "U3xG0fl8jzeh",
    "outputId": "f0c13ac0-08c5-419b-ea78-b1a3c8ef6c50"
   },
   "outputs": [
    {
     "data": {
      "text/html": [
       "<div>\n",
       "<style scoped>\n",
       "    .dataframe tbody tr th:only-of-type {\n",
       "        vertical-align: middle;\n",
       "    }\n",
       "\n",
       "    .dataframe tbody tr th {\n",
       "        vertical-align: top;\n",
       "    }\n",
       "\n",
       "    .dataframe thead th {\n",
       "        text-align: right;\n",
       "    }\n",
       "</style>\n",
       "<table border=\"1\" class=\"dataframe\">\n",
       "  <thead>\n",
       "    <tr style=\"text-align: right;\">\n",
       "      <th></th>\n",
       "      <th>FileName</th>\n",
       "      <th>Status</th>\n",
       "    </tr>\n",
       "  </thead>\n",
       "  <tbody>\n",
       "    <tr>\n",
       "      <th>608</th>\n",
       "      <td>/content/drive/MyDrive/ML Projects/Covid X-Ray...</td>\n",
       "      <td>positive</td>\n",
       "    </tr>\n",
       "    <tr>\n",
       "      <th>14380</th>\n",
       "      <td>/content/drive/MyDrive/ML Projects/Covid X-Ray...</td>\n",
       "      <td>negative</td>\n",
       "    </tr>\n",
       "    <tr>\n",
       "      <th>4274</th>\n",
       "      <td>/content/drive/MyDrive/ML Projects/Covid X-Ray...</td>\n",
       "      <td>negative</td>\n",
       "    </tr>\n",
       "    <tr>\n",
       "      <th>3203</th>\n",
       "      <td>/content/drive/MyDrive/ML Projects/Covid X-Ray...</td>\n",
       "      <td>negative</td>\n",
       "    </tr>\n",
       "    <tr>\n",
       "      <th>14666</th>\n",
       "      <td>/content/drive/MyDrive/ML Projects/Covid X-Ray...</td>\n",
       "      <td>negative</td>\n",
       "    </tr>\n",
       "    <tr>\n",
       "      <th>...</th>\n",
       "      <td>...</td>\n",
       "      <td>...</td>\n",
       "    </tr>\n",
       "    <tr>\n",
       "      <th>2368</th>\n",
       "      <td>/content/drive/MyDrive/ML Projects/Covid X-Ray...</td>\n",
       "      <td>positive</td>\n",
       "    </tr>\n",
       "    <tr>\n",
       "      <th>1545</th>\n",
       "      <td>/content/drive/MyDrive/ML Projects/Covid X-Ray...</td>\n",
       "      <td>positive</td>\n",
       "    </tr>\n",
       "    <tr>\n",
       "      <th>10766</th>\n",
       "      <td>/content/drive/MyDrive/ML Projects/Covid X-Ray...</td>\n",
       "      <td>negative</td>\n",
       "    </tr>\n",
       "    <tr>\n",
       "      <th>14731</th>\n",
       "      <td>/content/drive/MyDrive/ML Projects/Covid X-Ray...</td>\n",
       "      <td>negative</td>\n",
       "    </tr>\n",
       "    <tr>\n",
       "      <th>1161</th>\n",
       "      <td>/content/drive/MyDrive/ML Projects/Covid X-Ray...</td>\n",
       "      <td>positive</td>\n",
       "    </tr>\n",
       "  </tbody>\n",
       "</table>\n",
       "<p>3452 rows × 2 columns</p>\n",
       "</div>"
      ],
      "text/plain": [
       "                                                FileName    Status\n",
       "608    /content/drive/MyDrive/ML Projects/Covid X-Ray...  positive\n",
       "14380  /content/drive/MyDrive/ML Projects/Covid X-Ray...  negative\n",
       "4274   /content/drive/MyDrive/ML Projects/Covid X-Ray...  negative\n",
       "3203   /content/drive/MyDrive/ML Projects/Covid X-Ray...  negative\n",
       "14666  /content/drive/MyDrive/ML Projects/Covid X-Ray...  negative\n",
       "...                                                  ...       ...\n",
       "2368   /content/drive/MyDrive/ML Projects/Covid X-Ray...  positive\n",
       "1545   /content/drive/MyDrive/ML Projects/Covid X-Ray...  positive\n",
       "10766  /content/drive/MyDrive/ML Projects/Covid X-Ray...  negative\n",
       "14731  /content/drive/MyDrive/ML Projects/Covid X-Ray...  negative\n",
       "1161   /content/drive/MyDrive/ML Projects/Covid X-Ray...  positive\n",
       "\n",
       "[3452 rows x 2 columns]"
      ]
     },
     "execution_count": 15,
     "metadata": {},
     "output_type": "execute_result"
    }
   ],
   "source": [
    "X_train1"
   ]
  },
  {
   "cell_type": "markdown",
   "metadata": {
    "id": "GeEqOLjlh3EV"
   },
   "source": [
    "\n",
    "\n",
    "```\n",
    "Before creating a NN , we'll try to load one X-Ray image and check its dimension. The images are mostly of shape 1024,1024\n",
    "```\n",
    "\n"
   ]
  },
  {
   "cell_type": "code",
   "execution_count": null,
   "metadata": {
    "colab": {
     "base_uri": "https://localhost:8080/"
    },
    "id": "05QsGZ4xh2FP",
    "outputId": "0be070ae-8a8e-4b4e-8346-b770901d5610"
   },
   "outputs": [
    {
     "data": {
      "text/plain": [
       "(1024, 1024, 3)"
      ]
     },
     "execution_count": 25,
     "metadata": {},
     "output_type": "execute_result"
    }
   ],
   "source": [
    "from keras.preprocessing import image\n",
    "imag1 = image.load_img('/content/drive/MyDrive/Covid X-Ray Image Classification/Copy of 47c78742-4998-4878-aec4-37b11b1354ac.png')\n",
    "img_arr = np.array(imag1)\n",
    "img_arr.shape"
   ]
  },
  {
   "cell_type": "code",
   "execution_count": null,
   "metadata": {
    "colab": {
     "base_uri": "https://localhost:8080/",
     "height": 505
    },
    "id": "hj01DsXDAKdp",
    "outputId": "58ebac3c-b4b2-4d4f-b7eb-478acdaaff36"
   },
   "outputs": [
    {
     "data": {
      "text/plain": [
       "<matplotlib.image.AxesImage at 0x7faebf186ed0>"
      ]
     },
     "execution_count": 26,
     "metadata": {},
     "output_type": "execute_result"
    },
    {
     "data": {
      "image/png": "[encoded data removed]",
      "text/plain": [
       "<Figure size 576x576 with 1 Axes>"
      ]
     },
     "metadata": {},
     "output_type": "display_data"
    }
   ],
   "source": [
    "plt.imshow(img_arr)"
   ]
  },
  {
   "cell_type": "code",
   "execution_count": null,
   "metadata": {
    "colab": {
     "base_uri": "https://localhost:8080/"
    },
    "id": "KemuDPSDZQu9",
    "outputId": "a4ca28ca-6194-43a7-ccd7-16e18ae03c3e"
   },
   "outputs": [
    {
     "name": "stdout",
     "output_type": "stream",
     "text": [
      "Found 2311 validated image filenames belonging to 2 classes.\n",
      "Found 572 validated image filenames belonging to 2 classes.\n"
     ]
    }
   ],
   "source": [
    "from tensorflow.keras.preprocessing.image import ImageDataGenerator\n",
    "\n",
    "train1_gen = ImageDataGenerator(rescale = 1./255,\n",
    "                                #rotation_range = 30,\n",
    "                                #shear_range=0.5,\n",
    "                                #zoom_range=[0.5,0.7],\n",
    "                                #horizontal_flip=True,\n",
    "                                #vertical_flip=True\n",
    "                                )\n",
    "val1_gen = ImageDataGenerator(rescale = 1./255,\n",
    "                                #rotation_range = 30,\n",
    "                                #shear_range=0.5,\n",
    "                                #zoom_range=[0.5,0.7],\n",
    "                                #horizontal_flip=True,\n",
    "                                #vertical_flip=True\n",
    "                              )\n",
    "\n",
    "train_set = train1_gen.flow_from_dataframe(\n",
    "                                           dataframe=X_train1,\n",
    "                                          directory = '/content/drive/MyDrive/Covid X-Ray Image Classification/train',\n",
    "                                          x_col = \"FileName\",\n",
    "                                          y_col=\"Status\",\n",
    "                                          batch_size=32,\n",
    "                                          class_mode = 'binary',\n",
    "                                          shuffle= True,\n",
    "                                           target_size = (1024,1024)\n",
    "                                           #save_to_dir='/content/drive/MyDrive/ML Projects/Covid X-Ray Image Classification/Generated_images',\n",
    "                                           #save_format='png'\n",
    "                                         )\n",
    "\n",
    "val_set = val1_gen.flow_from_dataframe(\n",
    "                                     dataframe = val1,\n",
    "                                     directory = '/content/drive/MyDrive/Covid X-Ray Image Classification/train',\n",
    "                                          x_col = \"FileName\",\n",
    "                                          y_col=\"Status\",\n",
    "                                          batch_size=32,\n",
    "                                          class_mode = 'binary',\n",
    "                                          shuffle= True,\n",
    "                                         target_size = (1024,1024))\n"
   ]
  },
  {
   "cell_type": "code",
   "execution_count": null,
   "metadata": {
    "id": "YGGlpS7BgSYP"
   },
   "outputs": [],
   "source": [
    "from tensorflow.keras.models import Sequential\n",
    "from tensorflow.keras.layers import Conv2D\n",
    "from tensorflow.keras.layers import MaxPooling2D\n",
    "from tensorflow.keras.layers import Flatten\n",
    "from tensorflow.keras.layers import Dense"
   ]
  },
  {
   "cell_type": "code",
   "execution_count": null,
   "metadata": {
    "id": "VKDfwos5ja22"
   },
   "outputs": [],
   "source": [
    "classifier = Sequential()\n",
    "#layer 1\n",
    "classifier.add(Conv2D(filters=16,kernel_size=(3,3),activation='relu', input_shape=(1024,1024,3)))\n",
    "classifier.add(MaxPooling2D(pool_size=(2,2)))\n",
    "\n",
    "#layer 2\n",
    "classifier.add(Conv2D(filters=32,kernel_size=(3,3),activation='relu', input_shape=(1024,1024,3)))\n",
    "classifier.add(MaxPooling2D(pool_size=(2,2)))\n",
    "\n",
    "#layer 3\n",
    "classifier.add(Conv2D(filters=32,kernel_size=(3,3),activation='relu'))\n",
    "classifier.add(MaxPooling2D(pool_size=(2,2)))\n",
    "\n",
    "#layer 4\n",
    "classifier.add(Conv2D(filters=64,kernel_size=(3,3),activation='relu'))\n",
    "classifier.add(MaxPooling2D(pool_size=(2,2)))\n",
    "\n",
    "\n",
    "classifier.add(Flatten())\n",
    "\n",
    "#Dense Layer\n",
    "classifier.add(Dense(units=32,activation='relu'))\n",
    "classifier.add(Dense(units=1,activation='sigmoid'))\n",
    "\n"
   ]
  },
  {
   "cell_type": "code",
   "execution_count": null,
   "metadata": {
    "colab": {
     "base_uri": "https://localhost:8080/"
    },
    "id": "dM4KpwYmmRce",
    "outputId": "442b35c5-2a0f-42ca-9762-202cbd0c3347"
   },
   "outputs": [
    {
     "name": "stdout",
     "output_type": "stream",
     "text": [
      "Model: \"sequential\"\n",
      "_________________________________________________________________\n",
      "Layer (type)                 Output Shape              Param #   \n",
      "=================================================================\n",
      "conv2d (Conv2D)              (None, 1022, 1022, 16)    448       \n",
      "_________________________________________________________________\n",
      "max_pooling2d (MaxPooling2D) (None, 511, 511, 16)      0         \n",
      "_________________________________________________________________\n",
      "conv2d_1 (Conv2D)            (None, 509, 509, 32)      4640      \n",
      "_________________________________________________________________\n",
      "max_pooling2d_1 (MaxPooling2 (None, 254, 254, 32)      0         \n",
      "_________________________________________________________________\n",
      "conv2d_2 (Conv2D)            (None, 252, 252, 32)      9248      \n",
      "_________________________________________________________________\n",
      "max_pooling2d_2 (MaxPooling2 (None, 126, 126, 32)      0         \n",
      "_________________________________________________________________\n",
      "conv2d_3 (Conv2D)            (None, 124, 124, 64)      18496     \n",
      "_________________________________________________________________\n",
      "max_pooling2d_3 (MaxPooling2 (None, 62, 62, 64)        0         \n",
      "_________________________________________________________________\n",
      "flatten (Flatten)            (None, 246016)            0         \n",
      "_________________________________________________________________\n",
      "dense (Dense)                (None, 32)                7872544   \n",
      "_________________________________________________________________\n",
      "dense_1 (Dense)              (None, 1)                 33        \n",
      "=================================================================\n",
      "Total params: 7,905,409\n",
      "Trainable params: 7,905,409\n",
      "Non-trainable params: 0\n",
      "_________________________________________________________________\n"
     ]
    }
   ],
   "source": [
    "classifier.summary()"
   ]
  },
  {
   "cell_type": "code",
   "execution_count": null,
   "metadata": {
    "id": "T29ppPHXnb-k"
   },
   "outputs": [],
   "source": [
    "classifier.compile(loss='binary_crossentropy', optimizer='rmsprop' ,metrics = 'accuracy')"
   ]
  },
  {
   "cell_type": "code",
   "execution_count": null,
   "metadata": {
    "id": "5vMN8YBXn512"
   },
   "outputs": [],
   "source": [
    "from keras.callbacks import ModelCheckpoint, EarlyStopping, CSVLogger\n",
    "\n",
    "#filepath = '/content/drive/MyDrive/ML Projects/Covid X-Ray Image Classification/best-model-{epoch:02d}.hdf5'\n",
    "\n",
    "#chk_point = ModelCheckpoint(filepath, monitor='val_loss', mode='min',save_best_only = True, verbose=1)\n",
    "\n",
    "#Early_stop = EarlyStopping(monitor='val_loss',patience=3,verbose=1)\n",
    "\n",
    "csvlog = CSVLogger('logs.csv', separator=\",\", append=False)\n",
    "\n",
    "call_backs_list = [csvlog]\n"
   ]
  },
  {
   "cell_type": "code",
   "execution_count": null,
   "metadata": {
    "colab": {
     "base_uri": "https://localhost:8080/"
    },
    "id": "l9taCGjHvpCX",
    "outputId": "6dad226f-dc13-4c2a-e609-0801b70af4dc"
   },
   "outputs": [
    {
     "name": "stdout",
     "output_type": "stream",
     "text": [
      "Epoch 1/20\n",
      "71/71 [==============================] - 1273s 17s/step - loss: 0.8322 - accuracy: 0.6867 - val_loss: 0.4926 - val_accuracy: 0.7776\n",
      "Epoch 2/20\n",
      "71/71 [==============================] - 162s 2s/step - loss: 0.4796 - accuracy: 0.7806 - val_loss: 0.4313 - val_accuracy: 0.7721\n",
      "Epoch 3/20\n",
      "71/71 [==============================] - 143s 2s/step - loss: 0.4006 - accuracy: 0.8344 - val_loss: 0.3371 - val_accuracy: 0.8529\n",
      "Epoch 4/20\n",
      "71/71 [==============================] - 140s 2s/step - loss: 0.3226 - accuracy: 0.8665 - val_loss: 0.2687 - val_accuracy: 0.8805\n",
      "Epoch 5/20\n",
      "71/71 [==============================] - 141s 2s/step - loss: 0.5311 - accuracy: 0.9074 - val_loss: 0.2498 - val_accuracy: 0.8952\n",
      "Epoch 6/20\n",
      "71/71 [==============================] - 144s 2s/step - loss: 0.2748 - accuracy: 0.9194 - val_loss: 0.2501 - val_accuracy: 0.8879\n",
      "Epoch 7/20\n",
      "71/71 [==============================] - 141s 2s/step - loss: 0.1858 - accuracy: 0.9444 - val_loss: 0.2122 - val_accuracy: 0.9099\n",
      "Epoch 8/20\n",
      "71/71 [==============================] - 141s 2s/step - loss: 0.1218 - accuracy: 0.9537 - val_loss: 0.3297 - val_accuracy: 0.8952\n",
      "Epoch 9/20\n",
      "71/71 [==============================] - 138s 2s/step - loss: 0.1015 - accuracy: 0.9693 - val_loss: 0.3739 - val_accuracy: 0.9136\n",
      "Epoch 10/20\n",
      "71/71 [==============================] - 141s 2s/step - loss: 0.1117 - accuracy: 0.9604 - val_loss: 0.2838 - val_accuracy: 0.9099\n",
      "Epoch 11/20\n",
      "71/71 [==============================] - 142s 2s/step - loss: 0.0711 - accuracy: 0.9800 - val_loss: 0.2602 - val_accuracy: 0.9118\n",
      "Epoch 12/20\n",
      "71/71 [==============================] - 123s 2s/step - loss: 0.0823 - accuracy: 0.9849 - val_loss: 0.3381 - val_accuracy: 0.9081\n",
      "Epoch 13/20\n",
      "71/71 [==============================] - 120s 2s/step - loss: 0.0541 - accuracy: 0.9837 - val_loss: 0.4197 - val_accuracy: 0.9191\n",
      "Epoch 14/20\n",
      "71/71 [==============================] - 138s 2s/step - loss: 0.1201 - accuracy: 0.9831 - val_loss: 0.4019 - val_accuracy: 0.9062\n",
      "Epoch 15/20\n",
      "71/71 [==============================] - 140s 2s/step - loss: 0.0610 - accuracy: 0.9880 - val_loss: 0.3976 - val_accuracy: 0.8952\n",
      "Epoch 16/20\n",
      "71/71 [==============================] - 139s 2s/step - loss: 0.0142 - accuracy: 0.9947 - val_loss: 0.7678 - val_accuracy: 0.9062\n",
      "Epoch 17/20\n",
      "71/71 [==============================] - 119s 2s/step - loss: 0.0301 - accuracy: 0.9880 - val_loss: 0.4284 - val_accuracy: 0.9191\n",
      "Epoch 18/20\n",
      "71/71 [==============================] - 138s 2s/step - loss: 0.0590 - accuracy: 0.9849 - val_loss: 0.4082 - val_accuracy: 0.9044\n",
      "Epoch 19/20\n",
      "71/71 [==============================] - 138s 2s/step - loss: 0.0879 - accuracy: 0.9880 - val_loss: 0.5181 - val_accuracy: 0.9026\n",
      "Epoch 20/20\n",
      "71/71 [==============================] - 140s 2s/step - loss: 0.0294 - accuracy: 0.9911 - val_loss: 0.6757 - val_accuracy: 0.9062\n"
     ]
    }
   ],
   "source": [
    "history = classifier.fit_generator(train_set,\n",
    "                                   steps_per_epoch = 2294//32,\n",
    "                                   #7831//32,\n",
    "                                   epochs = 20,\n",
    "                                   validation_data=val_set,\n",
    "                                   validation_steps = 557//32,\n",
    "                                   #1990//32,\n",
    "                                   callbacks=call_backs_list\n",
    "                                   )"
   ]
  },
  {
   "cell_type": "code",
   "execution_count": null,
   "metadata": {
    "colab": {
     "base_uri": "https://localhost:8080/"
    },
    "id": "LIgOV3JUF8PT",
    "outputId": "12a64114-bade-4ef1-c334-7ee1a3b8fb6f"
   },
   "outputs": [
    {
     "name": "stdout",
     "output_type": "stream",
     "text": [
      "Found 400 validated image filenames belonging to 2 classes.\n"
     ]
    }
   ],
   "source": [
    "test_datagen = ImageDataGenerator(rescale=(1/255))\n",
    "\n",
    "test_set = test_datagen.flow_from_dataframe(\n",
    "                                     dataframe = test,\n",
    "                                     directory = '/content/drive/MyDrive/Covid X-Ray Image Classification/test/test.zip (Unzipped Files)',\n",
    "                                          x_col = \"FileName\",\n",
    "                                          y_col=\"Status\",\n",
    "                                          batch_size=32,\n",
    "                                          class_mode = 'binary',\n",
    "                                          shuffle= True,\n",
    "                                       target_size = (1024,1024))"
   ]
  },
  {
   "cell_type": "code",
   "execution_count": null,
   "metadata": {
    "id": "I8J9URa0R_Ny"
   },
   "outputs": [],
   "source": [
    "eval = classifier.evaluate_generator(generator=test_set)"
   ]
  },
  {
   "cell_type": "code",
   "execution_count": 28,
   "metadata": {
    "id": "9VOMiI7Txjnk"
   },
   "outputs": [],
   "source": [
    "score = pd.DataFrame(columns=['Model','val_loss','val_accuracy'])\n",
    "def update_score(model,val_loss,val_accuracy):\n",
    "  global score\n",
    "\n",
    "  score=score.append({\n",
    "                   'Model':model,\n",
    "                   'val_loss':val_loss,\n",
    "                   'val_accuracy':val_accuracy\n",
    "                   \n",
    "  }, ignore_index=True)"
   ]
  },
  {
   "cell_type": "code",
   "execution_count": null,
   "metadata": {
    "id": "QUzEbKWzuMPN"
   },
   "outputs": [],
   "source": [
    "update_score('CNN1',eval[0],eval[1])"
   ]
  },
  {
   "cell_type": "code",
   "execution_count": null,
   "metadata": {
    "colab": {
     "base_uri": "https://localhost:8080/",
     "height": 81
    },
    "id": "acIE-fVEur0p",
    "outputId": "d6ab7f04-24c3-4283-c0a6-e9874a50a83c"
   },
   "outputs": [
    {
     "data": {
      "text/html": [
       "<div>\n",
       "<style scoped>\n",
       "    .dataframe tbody tr th:only-of-type {\n",
       "        vertical-align: middle;\n",
       "    }\n",
       "\n",
       "    .dataframe tbody tr th {\n",
       "        vertical-align: top;\n",
       "    }\n",
       "\n",
       "    .dataframe thead th {\n",
       "        text-align: right;\n",
       "    }\n",
       "</style>\n",
       "<table border=\"1\" class=\"dataframe\">\n",
       "  <thead>\n",
       "    <tr style=\"text-align: right;\">\n",
       "      <th></th>\n",
       "      <th>Model</th>\n",
       "      <th>val_loss</th>\n",
       "      <th>val_accuracy</th>\n",
       "    </tr>\n",
       "  </thead>\n",
       "  <tbody>\n",
       "    <tr>\n",
       "      <th>0</th>\n",
       "      <td>CNN1</td>\n",
       "      <td>1.220242</td>\n",
       "      <td>0.87</td>\n",
       "    </tr>\n",
       "  </tbody>\n",
       "</table>\n",
       "</div>"
      ],
      "text/plain": [
       "  Model  val_loss  val_accuracy\n",
       "0  CNN1  1.220242          0.87"
      ]
     },
     "execution_count": 38,
     "metadata": {},
     "output_type": "execute_result"
    }
   ],
   "source": [
    "score"
   ]
  },
  {
   "cell_type": "code",
   "execution_count": null,
   "metadata": {
    "colab": {
     "base_uri": "https://localhost:8080/",
     "height": 336
    },
    "id": "EuSBKYtNzlOa",
    "outputId": "3d573e94-d507-40c6-ef75-474fbcd43e29"
   },
   "outputs": [
    {
     "data": {
      "image/png": "[encoded data removed]",
      "text/plain": [
       "<Figure size 360x360 with 1 Axes>"
      ]
     },
     "metadata": {},
     "output_type": "display_data"
    }
   ],
   "source": [
    "cnn1_log = pd.read_csv('/content/logs.csv')\n",
    "plt.figure(figsize=(5,5))\n",
    "plt.title('train_loss vs val_loss')\n",
    "plt.plot(cnn1_log.loss,label='train')\n",
    "plt.plot(cnn1_log.val_loss,label='val')\n",
    "plt.legend()\n",
    "plt.show()"
   ]
  },
  {
   "cell_type": "code",
   "execution_count": null,
   "metadata": {
    "colab": {
     "base_uri": "https://localhost:8080/",
     "height": 336
    },
    "id": "HPg2ijw8zt0O",
    "outputId": "ef2158f9-965c-44a7-d3b1-782bd7d83fc9"
   },
   "outputs": [
    {
     "data": {
      "image/png": "[encoded data removed]",
      "text/plain": [
       "<Figure size 360x360 with 1 Axes>"
      ]
     },
     "metadata": {},
     "output_type": "display_data"
    }
   ],
   "source": [
    "plt.figure(figsize=(5,5))\n",
    "plt.title('train_acc vs val_accuracy')\n",
    "plt.plot(cnn1_log.accuracy,label='train')\n",
    "plt.plot(cnn1_log.val_accuracy,label='val')\n",
    "plt.legend()\n",
    "plt.show()"
   ]
  },
  {
   "cell_type": "markdown",
   "metadata": {
    "id": "YmOoBT-awsp9"
   },
   "source": [
    "<h3><font color='red'> MobileNet</font></h3>"
   ]
  },
  {
   "cell_type": "code",
   "execution_count": null,
   "metadata": {
    "id": "0mI5Pa7_vz_C"
   },
   "outputs": [],
   "source": [
    "from keras.preprocessing.image import ImageDataGenerator\n",
    "train2_gen = ImageDataGenerator(rescale=1.0/255)\n",
    "val2_gen = ImageDataGenerator(rescale=1/255)"
   ]
  },
  {
   "cell_type": "code",
   "execution_count": null,
   "metadata": {
    "colab": {
     "base_uri": "https://localhost:8080/"
    },
    "id": "xSCfFOBtwRX4",
    "outputId": "e029985e-8a66-44af-d537-92129f64c707"
   },
   "outputs": [
    {
     "name": "stdout",
     "output_type": "stream",
     "text": [
      "Found 2311 validated image filenames belonging to 2 classes.\n",
      "Found 572 validated image filenames belonging to 2 classes.\n"
     ]
    }
   ],
   "source": [
    "train1_set = train2_gen.flow_from_dataframe(\n",
    "                                           dataframe=X_train1,\n",
    "                                          directory = '/content/drive/MyDrive/Covid X-Ray Image Classification/train',\n",
    "                                          x_col = \"FileName\",\n",
    "                                          y_col=\"Status\",\n",
    "                                          batch_size=10,\n",
    "                                          class_mode = 'binary',\n",
    "                                          shuffle= True,\n",
    "                                           target_size = (100,100)\n",
    "                                           #save_to_dir='/content/drive/MyDrive/ML Projects/Covid X-Ray Image Classification/Generated_images',\n",
    "                                           #save_format='png'\n",
    "                                         )\n",
    "\n",
    "val1_set = val2_gen.flow_from_dataframe(\n",
    "                                     dataframe = val1,\n",
    "                                     directory = '/content/drive/MyDrive/Covid X-Ray Image Classification/train',\n",
    "                                          x_col = \"FileName\",\n",
    "                                          y_col=\"Status\",\n",
    "                                          batch_size=10,\n",
    "                                          class_mode = 'binary',\n",
    "                                          shuffle= True,\n",
    "                                         target_size = (100,100))"
   ]
  },
  {
   "cell_type": "code",
   "execution_count": null,
   "metadata": {
    "colab": {
     "base_uri": "https://localhost:8080/"
    },
    "id": "w1S17XeMw1X2",
    "outputId": "982aace6-b733-4013-ea38-0c10093e95b3"
   },
   "outputs": [
    {
     "name": "stdout",
     "output_type": "stream",
     "text": [
      "WARNING:tensorflow:`input_shape` is undefined or non-square, or `rows` is not in [128, 160, 192, 224]. Weights for input shape (224, 224) will be loaded as the default.\n",
      "Downloading data from https://storage.googleapis.com/tensorflow/keras-applications/mobilenet/mobilenet_1_0_224_tf_no_top.h5\n",
      "17227776/17225924 [==============================] - 0s 0us/step\n",
      "17235968/17225924 [==============================] - 0s 0us/step\n"
     ]
    }
   ],
   "source": [
    "from tensorflow.keras.applications import MobileNet\n",
    "base_model2 = MobileNet(input_shape=(100,100,3),include_top=False,weights='imagenet',pooling='max')"
   ]
  },
  {
   "cell_type": "code",
   "execution_count": null,
   "metadata": {
    "id": "fkNVD9W-yPVK"
   },
   "outputs": [],
   "source": [
    "from keras.layers import Dense, Dropout,Flatten\n",
    "from tensorflow.keras import Model\n",
    "x_2 = base_model2.output\n",
    "x_2 = Flatten()(x_2)\n",
    "x_2 = Dense(1024,activation='relu')(x_2)\n",
    "x_2 = Dropout(0.5)(x_2)\n",
    "\n",
    "predictions_2 = Dense(1,activation = \"sigmoid\")(x_2)\n",
    "model_final_2 = Model(base_model2.input,predictions_2)"
   ]
  },
  {
   "cell_type": "code",
   "execution_count": null,
   "metadata": {
    "id": "pN5K7LSEzV8E"
   },
   "outputs": [],
   "source": [
    "model_final_2.compile('rmsprop',loss='binary_crossentropy',metrics=['accuracy'])"
   ]
  },
  {
   "cell_type": "code",
   "execution_count": null,
   "metadata": {
    "id": "obgheXCbCj-h"
   },
   "outputs": [],
   "source": [
    "from keras.callbacks import ModelCheckpoint, EarlyStopping, CSVLogger\n",
    "csvlog1 = CSVLogger('logs1.csv', separator=\",\", append=False)"
   ]
  },
  {
   "cell_type": "code",
   "execution_count": null,
   "metadata": {
    "colab": {
     "base_uri": "https://localhost:8080/"
    },
    "id": "MhVfOQOfzZ8K",
    "outputId": "331c3260-59dd-4d25-9b00-c3483740abf2"
   },
   "outputs": [
    {
     "name": "stdout",
     "output_type": "stream",
     "text": [
      "Epoch 1/40\n",
      "108/108 [==============================] - 46s 366ms/step - loss: 2.2880 - accuracy: 0.7554 - val_loss: 1.6418 - val_accuracy: 0.5927\n",
      "Epoch 2/40\n",
      "108/108 [==============================] - 41s 382ms/step - loss: 0.7323 - accuracy: 0.8343 - val_loss: 0.4656 - val_accuracy: 0.7972\n",
      "Epoch 3/40\n",
      "108/108 [==============================] - 41s 383ms/step - loss: 0.5161 - accuracy: 0.8491 - val_loss: 1.6246 - val_accuracy: 0.8724\n",
      "Epoch 4/40\n",
      "108/108 [==============================] - 41s 385ms/step - loss: 0.5786 - accuracy: 0.8380 - val_loss: 2.4321 - val_accuracy: 0.6626\n",
      "Epoch 5/40\n",
      "108/108 [==============================] - 43s 396ms/step - loss: 0.8018 - accuracy: 0.8454 - val_loss: 0.5609 - val_accuracy: 0.8969\n",
      "Epoch 6/40\n",
      "108/108 [==============================] - 43s 403ms/step - loss: 0.5213 - accuracy: 0.8646 - val_loss: 0.7696 - val_accuracy: 0.7902\n",
      "Epoch 7/40\n",
      "108/108 [==============================] - 43s 398ms/step - loss: 0.3550 - accuracy: 0.8935 - val_loss: 0.4779 - val_accuracy: 0.9021\n",
      "Epoch 8/40\n",
      "108/108 [==============================] - 43s 399ms/step - loss: 0.4072 - accuracy: 0.9085 - val_loss: 0.3617 - val_accuracy: 0.8899\n",
      "Epoch 9/40\n",
      "108/108 [==============================] - 43s 402ms/step - loss: 0.3371 - accuracy: 0.9120 - val_loss: 0.3120 - val_accuracy: 0.9126\n",
      "Epoch 10/40\n",
      "108/108 [==============================] - 41s 376ms/step - loss: 0.4493 - accuracy: 0.9231 - val_loss: 0.2550 - val_accuracy: 0.9073\n",
      "Epoch 11/40\n",
      "108/108 [==============================] - 42s 390ms/step - loss: 0.3551 - accuracy: 0.9315 - val_loss: 0.2574 - val_accuracy: 0.9248\n",
      "Epoch 12/40\n",
      "108/108 [==============================] - 41s 375ms/step - loss: 0.2406 - accuracy: 0.9204 - val_loss: 0.6305 - val_accuracy: 0.8566\n",
      "Epoch 13/40\n",
      "108/108 [==============================] - 40s 371ms/step - loss: 0.2660 - accuracy: 0.9343 - val_loss: 1.5422 - val_accuracy: 0.8304\n",
      "Epoch 14/40\n",
      "108/108 [==============================] - 40s 373ms/step - loss: 0.3314 - accuracy: 0.9454 - val_loss: 2.7542 - val_accuracy: 0.6066\n",
      "Epoch 15/40\n",
      "108/108 [==============================] - 39s 359ms/step - loss: 0.2219 - accuracy: 0.9384 - val_loss: 0.3103 - val_accuracy: 0.9161\n",
      "Epoch 16/40\n",
      "108/108 [==============================] - 41s 379ms/step - loss: 0.3538 - accuracy: 0.9393 - val_loss: 0.1795 - val_accuracy: 0.9545\n",
      "Epoch 17/40\n",
      "108/108 [==============================] - 41s 384ms/step - loss: 0.2691 - accuracy: 0.9361 - val_loss: 1.3468 - val_accuracy: 0.7885\n",
      "Epoch 18/40\n",
      "108/108 [==============================] - 40s 371ms/step - loss: 0.1510 - accuracy: 0.9583 - val_loss: 0.3693 - val_accuracy: 0.9371\n",
      "Epoch 19/40\n",
      "108/108 [==============================] - 41s 379ms/step - loss: 0.1699 - accuracy: 0.9630 - val_loss: 0.2793 - val_accuracy: 0.9301\n",
      "Epoch 20/40\n",
      "108/108 [==============================] - 39s 361ms/step - loss: 0.1330 - accuracy: 0.9593 - val_loss: 0.1541 - val_accuracy: 0.9441\n",
      "Epoch 21/40\n",
      "108/108 [==============================] - 41s 380ms/step - loss: 0.1954 - accuracy: 0.9589 - val_loss: 0.1923 - val_accuracy: 0.9528\n",
      "Epoch 22/40\n",
      "108/108 [==============================] - 40s 373ms/step - loss: 0.1740 - accuracy: 0.9589 - val_loss: 0.1901 - val_accuracy: 0.9580\n",
      "Epoch 23/40\n",
      "108/108 [==============================] - 41s 379ms/step - loss: 0.2088 - accuracy: 0.9611 - val_loss: 0.3199 - val_accuracy: 0.9336\n",
      "Epoch 24/40\n",
      "108/108 [==============================] - 42s 388ms/step - loss: 0.3424 - accuracy: 0.9602 - val_loss: 1.1300 - val_accuracy: 0.7133\n",
      "Epoch 25/40\n",
      "108/108 [==============================] - 41s 382ms/step - loss: 0.1847 - accuracy: 0.9648 - val_loss: 1.1272 - val_accuracy: 0.7255\n",
      "Epoch 26/40\n",
      "108/108 [==============================] - 40s 373ms/step - loss: 0.1784 - accuracy: 0.9630 - val_loss: 0.2731 - val_accuracy: 0.9476\n",
      "Epoch 27/40\n",
      "108/108 [==============================] - 41s 384ms/step - loss: 0.1966 - accuracy: 0.9636 - val_loss: 0.3558 - val_accuracy: 0.9301\n",
      "Epoch 28/40\n",
      "108/108 [==============================] - 41s 377ms/step - loss: 0.1736 - accuracy: 0.9694 - val_loss: 0.7867 - val_accuracy: 0.8951\n",
      "Epoch 29/40\n",
      "108/108 [==============================] - 41s 381ms/step - loss: 0.2182 - accuracy: 0.9748 - val_loss: 0.2364 - val_accuracy: 0.9493\n",
      "Epoch 30/40\n",
      "108/108 [==============================] - 41s 379ms/step - loss: 0.1198 - accuracy: 0.9692 - val_loss: 0.4171 - val_accuracy: 0.8969\n",
      "Epoch 31/40\n",
      "108/108 [==============================] - 43s 396ms/step - loss: 0.0917 - accuracy: 0.9769 - val_loss: 2.3840 - val_accuracy: 0.8549\n",
      "Epoch 32/40\n",
      "108/108 [==============================] - 40s 371ms/step - loss: 0.1005 - accuracy: 0.9757 - val_loss: 0.5137 - val_accuracy: 0.8864\n",
      "Epoch 33/40\n",
      "108/108 [==============================] - 41s 379ms/step - loss: 0.1929 - accuracy: 0.9739 - val_loss: 0.1870 - val_accuracy: 0.9231\n",
      "Epoch 34/40\n",
      "108/108 [==============================] - 41s 385ms/step - loss: 0.0951 - accuracy: 0.9731 - val_loss: 0.7072 - val_accuracy: 0.8462\n",
      "Epoch 35/40\n",
      "108/108 [==============================] - 43s 397ms/step - loss: 0.1710 - accuracy: 0.9785 - val_loss: 0.2158 - val_accuracy: 0.9423\n",
      "Epoch 36/40\n",
      "108/108 [==============================] - 43s 401ms/step - loss: 0.0463 - accuracy: 0.9852 - val_loss: 0.5822 - val_accuracy: 0.9143\n",
      "Epoch 37/40\n",
      "108/108 [==============================] - 44s 413ms/step - loss: 0.1062 - accuracy: 0.9767 - val_loss: 0.3509 - val_accuracy: 0.9318\n",
      "Epoch 38/40\n",
      "108/108 [==============================] - 44s 409ms/step - loss: 0.0776 - accuracy: 0.9861 - val_loss: 0.8692 - val_accuracy: 0.8706\n",
      "Epoch 39/40\n",
      "108/108 [==============================] - 43s 394ms/step - loss: 0.0678 - accuracy: 0.9852 - val_loss: 0.3783 - val_accuracy: 0.9545\n",
      "Epoch 40/40\n",
      "108/108 [==============================] - 40s 367ms/step - loss: 0.0501 - accuracy: 0.9852 - val_loss: 1.5128 - val_accuracy: 0.8287\n"
     ]
    }
   ],
   "source": [
    "eff_history_1 = model_final_2.fit_generator(train1_set, validation_data = val1_set, steps_per_epoch = 108, epochs =40, callbacks=csvlog1)"
   ]
  },
  {
   "cell_type": "code",
   "execution_count": null,
   "metadata": {
    "colab": {
     "base_uri": "https://localhost:8080/"
    },
    "id": "7KDuYSwVBydV",
    "outputId": "7ed9ef95-ef1c-4465-9cd6-d8325fa20e5f"
   },
   "outputs": [
    {
     "name": "stdout",
     "output_type": "stream",
     "text": [
      "Found 400 validated image filenames belonging to 2 classes.\n"
     ]
    }
   ],
   "source": [
    "test_datagen = ImageDataGenerator(rescale=(1/255))\n",
    "\n",
    "test_set = test_datagen.flow_from_dataframe(\n",
    "                                     dataframe = test,\n",
    "                                     directory = '/content/drive/MyDrive/Covid X-Ray Image Classification/test/test.zip (Unzipped Files)',\n",
    "                                          x_col = \"FileName\",\n",
    "                                          y_col=\"Status\",\n",
    "                                          batch_size=32,\n",
    "                                          class_mode = 'binary',\n",
    "                                          shuffle= True,\n",
    "                                       target_size = (100,100))"
   ]
  },
  {
   "cell_type": "code",
   "execution_count": null,
   "metadata": {
    "id": "VNBkozyOx1xd"
   },
   "outputs": [],
   "source": [
    "eval1 = model_final_2.evaluate_generator(generator=test_set)"
   ]
  },
  {
   "cell_type": "code",
   "execution_count": null,
   "metadata": {
    "id": "gLykC8yAyCCu"
   },
   "outputs": [],
   "source": [
    "update_score('MobileNet',eval1[0],eval1[1])"
   ]
  },
  {
   "cell_type": "code",
   "execution_count": null,
   "metadata": {
    "colab": {
     "base_uri": "https://localhost:8080/",
     "height": 112
    },
    "id": "vVhDV_V62KJH",
    "outputId": "afd61dcd-5e21-4d51-fdf7-8a3d9aa49cc2"
   },
   "outputs": [
    {
     "data": {
      "text/html": [
       "<div>\n",
       "<style scoped>\n",
       "    .dataframe tbody tr th:only-of-type {\n",
       "        vertical-align: middle;\n",
       "    }\n",
       "\n",
       "    .dataframe tbody tr th {\n",
       "        vertical-align: top;\n",
       "    }\n",
       "\n",
       "    .dataframe thead th {\n",
       "        text-align: right;\n",
       "    }\n",
       "</style>\n",
       "<table border=\"1\" class=\"dataframe\">\n",
       "  <thead>\n",
       "    <tr style=\"text-align: right;\">\n",
       "      <th></th>\n",
       "      <th>Model</th>\n",
       "      <th>val_loss</th>\n",
       "      <th>val_accuracy</th>\n",
       "    </tr>\n",
       "  </thead>\n",
       "  <tbody>\n",
       "    <tr>\n",
       "      <th>0</th>\n",
       "      <td>CNN1</td>\n",
       "      <td>1.220242</td>\n",
       "      <td>0.8700</td>\n",
       "    </tr>\n",
       "    <tr>\n",
       "      <th>1</th>\n",
       "      <td>MobileNet</td>\n",
       "      <td>1.582924</td>\n",
       "      <td>0.7875</td>\n",
       "    </tr>\n",
       "  </tbody>\n",
       "</table>\n",
       "</div>"
      ],
      "text/plain": [
       "       Model  val_loss  val_accuracy\n",
       "0       CNN1  1.220242        0.8700\n",
       "1  MobileNet  1.582924        0.7875"
      ]
     },
     "execution_count": 51,
     "metadata": {},
     "output_type": "execute_result"
    }
   ],
   "source": [
    "score"
   ]
  },
  {
   "cell_type": "code",
   "execution_count": null,
   "metadata": {
    "id": "7Y3x2E1euwqG"
   },
   "outputs": [],
   "source": [
    "cnn1_log = pd.read_csv('/content/logs1.csv')\n",
    "#cnn1_log"
   ]
  },
  {
   "cell_type": "code",
   "execution_count": null,
   "metadata": {
    "colab": {
     "base_uri": "https://localhost:8080/",
     "height": 336
    },
    "id": "mWSf7jn8vD4D",
    "outputId": "b21cf71d-581f-4b5a-c751-444d448dd52c"
   },
   "outputs": [
    {
     "data": {
      "image/png": "[encoded data removed]",
      "text/plain": [
       "<Figure size 360x360 with 1 Axes>"
      ]
     },
     "metadata": {},
     "output_type": "display_data"
    }
   ],
   "source": [
    "plt.figure(figsize=(5,5))\n",
    "plt.title('train_loss vs val_loss')\n",
    "plt.plot(cnn1_log.loss,label='train')\n",
    "plt.plot(cnn1_log.val_loss,label='val')\n",
    "plt.legend()\n",
    "plt.show()\n"
   ]
  },
  {
   "cell_type": "code",
   "execution_count": null,
   "metadata": {
    "colab": {
     "base_uri": "https://localhost:8080/",
     "height": 336
    },
    "id": "ehI5yGYp8ikk",
    "outputId": "ca389c92-c081-4aed-ad0b-ed777733ba04"
   },
   "outputs": [
    {
     "data": {
      "image/png": "[encoded data removed]",
      "text/plain": [
       "<Figure size 360x360 with 1 Axes>"
      ]
     },
     "metadata": {},
     "output_type": "display_data"
    }
   ],
   "source": [
    "plt.figure(figsize=(5,5))\n",
    "plt.title('train_acc vs val_accuracy')\n",
    "plt.plot(cnn1_log.accuracy,label='train')\n",
    "plt.plot(cnn1_log.val_accuracy,label='val')\n",
    "plt.legend()\n",
    "plt.show()"
   ]
  },
  {
   "cell_type": "markdown",
   "metadata": {
    "id": "JhQP6jY0z_Ip"
   },
   "source": [
    "<font color='blue'> Implementing Multiple Pooling </font>"
   ]
  },
  {
   "cell_type": "code",
   "execution_count": null,
   "metadata": {
    "id": "n5o5RQdG81bS"
   },
   "outputs": [],
   "source": [
    "from keras.preprocessing.image import ImageDataGenerator\n",
    "train2_gen = ImageDataGenerator(rescale=1.0/255)\n",
    "val2_gen = ImageDataGenerator(rescale=1/255)"
   ]
  },
  {
   "cell_type": "code",
   "execution_count": null,
   "metadata": {
    "colab": {
     "base_uri": "https://localhost:8080/"
    },
    "id": "PgAxiy8E1Cc_",
    "outputId": "4f03157f-b757-4323-b4e1-a3511b8eadc2"
   },
   "outputs": [
    {
     "name": "stdout",
     "output_type": "stream",
     "text": [
      "Found 2311 validated image filenames belonging to 2 classes.\n",
      "Found 572 validated image filenames belonging to 2 classes.\n"
     ]
    }
   ],
   "source": [
    "train1_set = train2_gen.flow_from_dataframe(\n",
    "                                           dataframe=X_train1,\n",
    "                                          directory = '/content/drive/MyDrive/Covid X-Ray Image Classification/train',\n",
    "                                          x_col = \"FileName\",\n",
    "                                          y_col=\"Status\",\n",
    "                                          batch_size=10,\n",
    "                                          class_mode = 'binary',\n",
    "                                          shuffle= True,\n",
    "                                           target_size = (1024,1024)\n",
    "                                           #save_to_dir='/content/drive/MyDrive/ML Projects/Covid X-Ray Image Classification/Generated_images',\n",
    "                                           #save_format='png'\n",
    "                                         )\n",
    "\n",
    "val1_set = val2_gen.flow_from_dataframe(\n",
    "                                     dataframe = val1,\n",
    "                                     directory = '/content/drive/MyDrive/Covid X-Ray Image Classification/train',\n",
    "                                          x_col = \"FileName\",\n",
    "                                          y_col=\"Status\",\n",
    "                                          batch_size=10,\n",
    "                                          class_mode = 'binary',\n",
    "                                          shuffle= True,\n",
    "                                         target_size = (1024,1024))"
   ]
  },
  {
   "cell_type": "code",
   "execution_count": null,
   "metadata": {
    "id": "RcJF-CJal5pH"
   },
   "outputs": [],
   "source": [
    "from keras.layers import Input, Conv1D, MaxPooling2D, Flatten\n",
    "from tensorflow.keras import Model\n",
    "import tensorflow as tf\n",
    "\n",
    "#x=Sequential()\n",
    "x=Input(shape=(1024,1024,3))\n",
    "\n",
    "conv = Conv1D(filters=16,kernel_size=4,activation='linear', padding='valid')(x)\n",
    "#left operation\n",
    "max_statistic = MaxPooling2D(pool_size =4 ,padding ='valid')(conv)\n",
    "\n",
    "#right operation\n",
    "range_statistic = tf.math.negative(conv)\n",
    "\n",
    "range_statistic = MaxPooling2D(pool_size=4, padding='valid')(range_statistic)\n",
    "\n",
    "range_statistic = tf.math.negative(range_statistic)\n",
    "\n",
    "range_statistic = tf.math.subtract(max_statistic,range_statistic)\n",
    "\n",
    "concatte = tf.keras.layers.Concatenate()([max_statistic,range_statistic])\n",
    "features = Flatten()(concatte)\n",
    "\n",
    "features = tf.keras.layers.ReLU()(features)\n",
    "\n",
    "dense = Dense(units=32,activation='relu')(features)\n",
    "predictions = Dense(units=1,activation='sigmoid',name='output')(dense)\n",
    "\n",
    "model = Model(inputs=x, outputs = predictions)\n",
    "tf.keras.utils.plot_model(model,show_shapes=False,dpi=600)\n",
    "\n",
    "model.compile(optimizer='adam',loss='binary_crossentropy', metrics=['accuracy'])\n"
   ]
  },
  {
   "cell_type": "code",
   "execution_count": null,
   "metadata": {
    "id": "wV1NMkvS0XLo"
   },
   "outputs": [],
   "source": [
    "from keras.callbacks import ModelCheckpoint, EarlyStopping, CSVLogger\n",
    "#'model-{epoch:03d}-{val_loss:03f}-{val_accuracy:03f}.h5', save_best_only='True',monitor = 'val_loss', mode='min'\n",
    "mod = ModelCheckpoint('model-{epoch:03d}-{val_loss:03f}-{val_accuracy:03f}.h5', save_best_only='True',monitor='val_loss',mode='min')\n",
    "csvlog = CSVLogger('logs2.csv', separator=\",\", append=False)\n",
    "cll_bck = [mod,csvlog]"
   ]
  },
  {
   "cell_type": "code",
   "execution_count": null,
   "metadata": {
    "colab": {
     "base_uri": "https://localhost:8080/"
    },
    "id": "vrk5NlUx0GXj",
    "outputId": "6c5b07a0-60d2-45ce-a6f6-23e1317e187f"
   },
   "outputs": [
    {
     "name": "stdout",
     "output_type": "stream",
     "text": [
      "Epoch 1/60\n",
      "108/108 [==============================] - 82s 749ms/step - loss: 7.9660 - accuracy: 0.7500 - val_loss: 1.0031 - val_accuracy: 0.8689\n",
      "Epoch 2/60\n",
      "108/108 [==============================] - 80s 739ms/step - loss: 0.4228 - accuracy: 0.9346 - val_loss: 1.0318 - val_accuracy: 0.8514\n",
      "Epoch 3/60\n",
      "108/108 [==============================] - 80s 738ms/step - loss: 0.3320 - accuracy: 0.9519 - val_loss: 0.2492 - val_accuracy: 0.9633\n",
      "Epoch 4/60\n",
      "108/108 [==============================] - 79s 729ms/step - loss: 0.1162 - accuracy: 0.9757 - val_loss: 0.2234 - val_accuracy: 0.9598\n",
      "Epoch 5/60\n",
      "108/108 [==============================] - 79s 732ms/step - loss: 0.0900 - accuracy: 0.9757 - val_loss: 0.2233 - val_accuracy: 0.9580\n",
      "Epoch 6/60\n",
      "108/108 [==============================] - 79s 727ms/step - loss: 0.1818 - accuracy: 0.9685 - val_loss: 0.5992 - val_accuracy: 0.8829\n",
      "Epoch 7/60\n",
      "108/108 [==============================] - 79s 730ms/step - loss: 0.1768 - accuracy: 0.9617 - val_loss: 0.1595 - val_accuracy: 0.9598\n",
      "Epoch 8/60\n",
      "108/108 [==============================] - 81s 747ms/step - loss: 0.0754 - accuracy: 0.9815 - val_loss: 0.2059 - val_accuracy: 0.9685\n",
      "Epoch 9/60\n",
      "108/108 [==============================] - 80s 739ms/step - loss: 0.0704 - accuracy: 0.9813 - val_loss: 0.2426 - val_accuracy: 0.9528\n",
      "Epoch 10/60\n",
      "108/108 [==============================] - 80s 740ms/step - loss: 0.0781 - accuracy: 0.9739 - val_loss: 0.4021 - val_accuracy: 0.9073\n",
      "Epoch 11/60\n",
      "108/108 [==============================] - 78s 723ms/step - loss: 0.0717 - accuracy: 0.9804 - val_loss: 0.2035 - val_accuracy: 0.9755\n",
      "Epoch 12/60\n",
      "108/108 [==============================] - 80s 738ms/step - loss: 0.0446 - accuracy: 0.9917 - val_loss: 0.1588 - val_accuracy: 0.9703\n",
      "Epoch 13/60\n",
      "108/108 [==============================] - 79s 729ms/step - loss: 0.0437 - accuracy: 0.9880 - val_loss: 0.1986 - val_accuracy: 0.9773\n",
      "Epoch 14/60\n",
      "108/108 [==============================] - 80s 738ms/step - loss: 0.0687 - accuracy: 0.9796 - val_loss: 0.2986 - val_accuracy: 0.9615\n",
      "Epoch 15/60\n",
      "108/108 [==============================] - 81s 748ms/step - loss: 0.0773 - accuracy: 0.9823 - val_loss: 0.2337 - val_accuracy: 0.9615\n",
      "Epoch 16/60\n",
      "108/108 [==============================] - 79s 735ms/step - loss: 0.0102 - accuracy: 0.9972 - val_loss: 0.2685 - val_accuracy: 0.9650\n",
      "Epoch 17/60\n",
      "108/108 [==============================] - 81s 747ms/step - loss: 0.0699 - accuracy: 0.9852 - val_loss: 0.4677 - val_accuracy: 0.9301\n",
      "Epoch 18/60\n",
      "108/108 [==============================] - 81s 748ms/step - loss: 0.1021 - accuracy: 0.9767 - val_loss: 0.2289 - val_accuracy: 0.9703\n",
      "Epoch 19/60\n",
      "108/108 [==============================] - 81s 750ms/step - loss: 0.2494 - accuracy: 0.9602 - val_loss: 0.4911 - val_accuracy: 0.9231\n",
      "Epoch 20/60\n",
      "108/108 [==============================] - 80s 736ms/step - loss: 0.0658 - accuracy: 0.9869 - val_loss: 0.2900 - val_accuracy: 0.9685\n",
      "Epoch 21/60\n",
      "108/108 [==============================] - 81s 747ms/step - loss: 0.2048 - accuracy: 0.9769 - val_loss: 0.2420 - val_accuracy: 0.9755\n",
      "Epoch 22/60\n",
      "108/108 [==============================] - 81s 750ms/step - loss: 0.0208 - accuracy: 0.9916 - val_loss: 0.2564 - val_accuracy: 0.9545\n",
      "Epoch 23/60\n",
      "108/108 [==============================] - 80s 740ms/step - loss: 0.0143 - accuracy: 0.9963 - val_loss: 0.2274 - val_accuracy: 0.9685\n",
      "Epoch 24/60\n",
      "108/108 [==============================] - 79s 734ms/step - loss: 0.0236 - accuracy: 0.9935 - val_loss: 0.1852 - val_accuracy: 0.9650\n",
      "Epoch 25/60\n",
      "108/108 [==============================] - 79s 729ms/step - loss: 0.0063 - accuracy: 0.9972 - val_loss: 0.1826 - val_accuracy: 0.9668\n",
      "Epoch 26/60\n",
      "108/108 [==============================] - 80s 736ms/step - loss: 0.0016 - accuracy: 1.0000 - val_loss: 0.1912 - val_accuracy: 0.9685\n",
      "Epoch 27/60\n",
      "108/108 [==============================] - 80s 738ms/step - loss: 7.9370e-04 - accuracy: 1.0000 - val_loss: 0.1849 - val_accuracy: 0.9703\n",
      "Epoch 28/60\n",
      "108/108 [==============================] - 81s 753ms/step - loss: 0.0015 - accuracy: 1.0000 - val_loss: 0.1877 - val_accuracy: 0.9703\n",
      "Epoch 29/60\n",
      "108/108 [==============================] - 78s 724ms/step - loss: 8.6573e-04 - accuracy: 1.0000 - val_loss: 0.1891 - val_accuracy: 0.9703\n",
      "Epoch 30/60\n",
      "108/108 [==============================] - 79s 734ms/step - loss: 8.0888e-04 - accuracy: 1.0000 - val_loss: 0.1905 - val_accuracy: 0.9703\n",
      "Epoch 31/60\n",
      "108/108 [==============================] - 79s 733ms/step - loss: 5.7837e-04 - accuracy: 1.0000 - val_loss: 0.1933 - val_accuracy: 0.9703\n",
      "Epoch 32/60\n",
      "108/108 [==============================] - 78s 719ms/step - loss: 7.0961e-04 - accuracy: 1.0000 - val_loss: 0.1890 - val_accuracy: 0.9685\n",
      "Epoch 33/60\n",
      "108/108 [==============================] - 79s 730ms/step - loss: 4.5180e-04 - accuracy: 1.0000 - val_loss: 0.1892 - val_accuracy: 0.9703\n",
      "Epoch 34/60\n",
      "108/108 [==============================] - 80s 736ms/step - loss: 4.0830e-04 - accuracy: 1.0000 - val_loss: 0.1910 - val_accuracy: 0.9720\n",
      "Epoch 35/60\n",
      "108/108 [==============================] - 80s 736ms/step - loss: 2.9243e-04 - accuracy: 1.0000 - val_loss: 0.1964 - val_accuracy: 0.9685\n",
      "Epoch 36/60\n",
      "108/108 [==============================] - 79s 731ms/step - loss: 3.0924e-04 - accuracy: 1.0000 - val_loss: 0.1945 - val_accuracy: 0.9685\n",
      "Epoch 37/60\n",
      "108/108 [==============================] - 80s 740ms/step - loss: 2.5391e-04 - accuracy: 1.0000 - val_loss: 0.1981 - val_accuracy: 0.9720\n",
      "Epoch 38/60\n",
      "108/108 [==============================] - 80s 738ms/step - loss: 3.7481e-04 - accuracy: 1.0000 - val_loss: 0.1998 - val_accuracy: 0.9720\n",
      "Epoch 39/60\n",
      "108/108 [==============================] - 80s 738ms/step - loss: 3.9649e-04 - accuracy: 1.0000 - val_loss: 0.1980 - val_accuracy: 0.9720\n",
      "Epoch 40/60\n",
      "108/108 [==============================] - 78s 716ms/step - loss: 3.1420e-04 - accuracy: 1.0000 - val_loss: 0.2034 - val_accuracy: 0.9685\n",
      "Epoch 41/60\n",
      "108/108 [==============================] - 80s 735ms/step - loss: 2.3617e-04 - accuracy: 1.0000 - val_loss: 0.2087 - val_accuracy: 0.9685\n",
      "Epoch 42/60\n",
      "108/108 [==============================] - 79s 734ms/step - loss: 2.3066e-04 - accuracy: 1.0000 - val_loss: 0.2082 - val_accuracy: 0.9703\n",
      "Epoch 43/60\n",
      "108/108 [==============================] - 79s 729ms/step - loss: 1.6707e-04 - accuracy: 1.0000 - val_loss: 0.2120 - val_accuracy: 0.9703\n",
      "Epoch 44/60\n",
      "108/108 [==============================] - 80s 743ms/step - loss: 2.5814e-04 - accuracy: 1.0000 - val_loss: 0.2126 - val_accuracy: 0.9703\n",
      "Epoch 45/60\n",
      "108/108 [==============================] - 78s 718ms/step - loss: 2.0298e-04 - accuracy: 1.0000 - val_loss: 0.2143 - val_accuracy: 0.9703\n",
      "Epoch 46/60\n",
      "108/108 [==============================] - 80s 745ms/step - loss: 3.4984e-04 - accuracy: 1.0000 - val_loss: 0.2268 - val_accuracy: 0.9685\n",
      "Epoch 47/60\n",
      "108/108 [==============================] - 78s 720ms/step - loss: 2.3905e-04 - accuracy: 1.0000 - val_loss: 0.2164 - val_accuracy: 0.9703\n",
      "Epoch 48/60\n",
      "108/108 [==============================] - 79s 732ms/step - loss: 1.7220e-04 - accuracy: 1.0000 - val_loss: 0.2153 - val_accuracy: 0.9703\n",
      "Epoch 49/60\n",
      "108/108 [==============================] - 78s 724ms/step - loss: 1.8112e-04 - accuracy: 1.0000 - val_loss: 0.2175 - val_accuracy: 0.9703\n",
      "Epoch 50/60\n",
      "108/108 [==============================] - 80s 735ms/step - loss: 1.2181e-04 - accuracy: 1.0000 - val_loss: 0.2196 - val_accuracy: 0.9703\n",
      "Epoch 51/60\n",
      "108/108 [==============================] - 80s 734ms/step - loss: 1.2400e-04 - accuracy: 1.0000 - val_loss: 0.2232 - val_accuracy: 0.9703\n",
      "Epoch 52/60\n",
      "108/108 [==============================] - 80s 738ms/step - loss: 9.9066e-05 - accuracy: 1.0000 - val_loss: 0.2229 - val_accuracy: 0.9703\n",
      "Epoch 53/60\n",
      "108/108 [==============================] - 80s 737ms/step - loss: 8.5641e-05 - accuracy: 1.0000 - val_loss: 0.2248 - val_accuracy: 0.9703\n",
      "Epoch 54/60\n",
      "108/108 [==============================] - 79s 728ms/step - loss: 8.9330e-05 - accuracy: 1.0000 - val_loss: 0.2212 - val_accuracy: 0.9703\n",
      "Epoch 55/60\n",
      "108/108 [==============================] - 79s 730ms/step - loss: 9.7745e-05 - accuracy: 1.0000 - val_loss: 0.2267 - val_accuracy: 0.9703\n",
      "Epoch 56/60\n",
      "108/108 [==============================] - 78s 724ms/step - loss: 8.0655e-05 - accuracy: 1.0000 - val_loss: 0.2265 - val_accuracy: 0.9703\n",
      "Epoch 57/60\n",
      "108/108 [==============================] - 80s 738ms/step - loss: 1.0257e-04 - accuracy: 1.0000 - val_loss: 0.2239 - val_accuracy: 0.9703\n",
      "Epoch 58/60\n",
      "108/108 [==============================] - 79s 731ms/step - loss: 8.6057e-05 - accuracy: 1.0000 - val_loss: 0.2276 - val_accuracy: 0.9703\n",
      "Epoch 59/60\n",
      "108/108 [==============================] - 79s 727ms/step - loss: 5.2390e-05 - accuracy: 1.0000 - val_loss: 0.2286 - val_accuracy: 0.9685\n",
      "Epoch 60/60\n",
      "108/108 [==============================] - 80s 734ms/step - loss: 5.6971e-05 - accuracy: 1.0000 - val_loss: 0.2265 - val_accuracy: 0.9668\n"
     ]
    }
   ],
   "source": [
    "pool_history = model.fit(train1_set, validation_data = val1_set, steps_per_epoch = 108, epochs =60, callbacks=cll_bck)"
   ]
  },
  {
   "cell_type": "code",
   "execution_count": null,
   "metadata": {
    "colab": {
     "base_uri": "https://localhost:8080/"
    },
    "id": "2xdgBhH-1Uwq",
    "outputId": "6d7ae1dc-9333-4be8-d2b3-ceb3eed74471"
   },
   "outputs": [
    {
     "name": "stdout",
     "output_type": "stream",
     "text": [
      "Found 400 validated image filenames belonging to 2 classes.\n"
     ]
    }
   ],
   "source": [
    "test_datagen = ImageDataGenerator(rescale=(1/255))\n",
    "\n",
    "test_set = test_datagen.flow_from_dataframe(\n",
    "                                     dataframe = test,\n",
    "                                     directory = '/content/drive/MyDrive/Covid X-Ray Image Classification/test/test.zip (Unzipped Files)',\n",
    "                                          x_col = \"FileName\",\n",
    "                                          y_col=\"Status\",\n",
    "                                          batch_size=32,\n",
    "                                          class_mode = 'binary',\n",
    "                                          shuffle= True,\n",
    "                                       target_size = (1024,1024))"
   ]
  },
  {
   "cell_type": "code",
   "execution_count": null,
   "metadata": {
    "id": "YThsvXbVvuox"
   },
   "outputs": [],
   "source": [
    "from keras.models import load_model\n",
    "model = load_model('/content/model-012-0.158821-0.970280.h5')"
   ]
  },
  {
   "cell_type": "code",
   "execution_count": null,
   "metadata": {
    "id": "Xw27_Zjf05GW"
   },
   "outputs": [],
   "source": [
    "eval2 = model.evaluate_generator(generator=test_set)"
   ]
  },
  {
   "cell_type": "code",
   "execution_count": null,
   "metadata": {
    "id": "LStr-Mlf14gR"
   },
   "outputs": [],
   "source": [
    "update_score('CNN2-MultiplePooling',eval2[0],eval2[1])"
   ]
  },
  {
   "cell_type": "code",
   "execution_count": null,
   "metadata": {
    "colab": {
     "base_uri": "https://localhost:8080/",
     "height": 143
    },
    "id": "CR0SE4VQ16fz",
    "outputId": "0e95da4a-1ec6-4117-a05a-362fe0d6b356"
   },
   "outputs": [
    {
     "data": {
      "text/html": [
       "<div>\n",
       "<style scoped>\n",
       "    .dataframe tbody tr th:only-of-type {\n",
       "        vertical-align: middle;\n",
       "    }\n",
       "\n",
       "    .dataframe tbody tr th {\n",
       "        vertical-align: top;\n",
       "    }\n",
       "\n",
       "    .dataframe thead th {\n",
       "        text-align: right;\n",
       "    }\n",
       "</style>\n",
       "<table border=\"1\" class=\"dataframe\">\n",
       "  <thead>\n",
       "    <tr style=\"text-align: right;\">\n",
       "      <th></th>\n",
       "      <th>Model</th>\n",
       "      <th>val_loss</th>\n",
       "      <th>val_accuracy</th>\n",
       "    </tr>\n",
       "  </thead>\n",
       "  <tbody>\n",
       "    <tr>\n",
       "      <th>0</th>\n",
       "      <td>CNN1</td>\n",
       "      <td>1.220242</td>\n",
       "      <td>0.8700</td>\n",
       "    </tr>\n",
       "    <tr>\n",
       "      <th>1</th>\n",
       "      <td>MobileNet</td>\n",
       "      <td>1.582924</td>\n",
       "      <td>0.7875</td>\n",
       "    </tr>\n",
       "    <tr>\n",
       "      <th>2</th>\n",
       "      <td>CNN2-MultiplePooling</td>\n",
       "      <td>0.077369</td>\n",
       "      <td>0.9825</td>\n",
       "    </tr>\n",
       "  </tbody>\n",
       "</table>\n",
       "</div>"
      ],
      "text/plain": [
       "                  Model  val_loss  val_accuracy\n",
       "0                  CNN1  1.220242        0.8700\n",
       "1             MobileNet  1.582924        0.7875\n",
       "2  CNN2-MultiplePooling  0.077369        0.9825"
      ]
     },
     "execution_count": 71,
     "metadata": {},
     "output_type": "execute_result"
    }
   ],
   "source": [
    "score"
   ]
  },
  {
   "cell_type": "code",
   "execution_count": null,
   "metadata": {
    "id": "2vJ07bNL9NL_"
   },
   "outputs": [],
   "source": [
    "cnn1_log = pd.read_csv('/content/logs2.csv')\n",
    "#cnn1_log"
   ]
  },
  {
   "cell_type": "code",
   "execution_count": null,
   "metadata": {
    "colab": {
     "base_uri": "https://localhost:8080/",
     "height": 336
    },
    "id": "i85BTliB9NMA",
    "outputId": "19d40884-7a8b-4f92-80af-0cab1d90719c"
   },
   "outputs": [
    {
     "data": {
      "image/png": "[encoded data removed]",
      "text/plain": [
       "<Figure size 360x360 with 1 Axes>"
      ]
     },
     "metadata": {},
     "output_type": "display_data"
    }
   ],
   "source": [
    "plt.figure(figsize=(5,5))\n",
    "plt.title('train_loss vs val_loss')\n",
    "plt.plot(cnn1_log.loss,label='train')\n",
    "plt.plot(cnn1_log.val_loss,label='val')\n",
    "plt.legend()\n",
    "plt.show()\n"
   ]
  },
  {
   "cell_type": "code",
   "execution_count": null,
   "metadata": {
    "colab": {
     "base_uri": "https://localhost:8080/",
     "height": 336
    },
    "id": "zOhRE5qO9NMA",
    "outputId": "b4bba992-79d2-4ffd-cecd-2b6bb3686491"
   },
   "outputs": [
    {
     "data": {
      "image/png": "[encoded data removed]",
      "text/plain": [
       "<Figure size 360x360 with 1 Axes>"
      ]
     },
     "metadata": {},
     "output_type": "display_data"
    }
   ],
   "source": [
    "plt.figure(figsize=(5,5))\n",
    "plt.title('train_acc vs val_accuracy')\n",
    "plt.plot(cnn1_log.accuracy,label='train')\n",
    "plt.plot(cnn1_log.val_accuracy,label='val')\n",
    "plt.legend()\n",
    "plt.show()"
   ]
  },
  {
   "cell_type": "markdown",
   "metadata": {
    "id": "HlBoPCNf9lVv"
   },
   "source": [
    "<font color='blue'> VGG16</font>"
   ]
  },
  {
   "cell_type": "code",
   "execution_count": 16,
   "metadata": {
    "colab": {
     "base_uri": "https://localhost:8080/"
    },
    "id": "2AXw4ooYz12t",
    "outputId": "c045cc93-d71e-4a78-f347-0eccd6cf59d8"
   },
   "outputs": [
    {
     "name": "stdout",
     "output_type": "stream",
     "text": [
      "Found 2277 validated image filenames belonging to 2 classes.\n",
      "Found 569 validated image filenames belonging to 2 classes.\n"
     ]
    }
   ],
   "source": [
    "from tensorflow.keras.preprocessing.image import ImageDataGenerator\n",
    "train2_gen = ImageDataGenerator(rescale=1.0/255)\n",
    "val2_gen = ImageDataGenerator(rescale=1/255)\n",
    "\n",
    "train1_set = train2_gen.flow_from_dataframe(\n",
    "                                           dataframe=X_train1,\n",
    "                                          directory = '/content/drive/MyDrive/ML Projects/Covid X-Ray Image Classification/train',\n",
    "                                          x_col = \"FileName\",\n",
    "                                          y_col=\"Status\",\n",
    "                                          batch_size=12,\n",
    "                                          class_mode = 'binary',\n",
    "                                          shuffle= True,\n",
    "                                           target_size = (500,500)\n",
    "                                           #save_to_dir='/content/drive/MyDrive/ML Projects/Covid X-Ray Image Classification/Generated_images',\n",
    "                                           #save_format='png'\n",
    "                                         )\n",
    "\n",
    "val1_set = val2_gen.flow_from_dataframe(\n",
    "                                     dataframe = val1,\n",
    "                                     directory = '/content/drive/MyDrive/ML Projects/Covid X-Ray Image Classification/train',\n",
    "                                          x_col = \"FileName\",\n",
    "                                          y_col=\"Status\",\n",
    "                                          batch_size=12,\n",
    "                                          class_mode = 'binary',\n",
    "                                          shuffle= True,\n",
    "                                         target_size = (500,500))"
   ]
  },
  {
   "cell_type": "code",
   "execution_count": 17,
   "metadata": {
    "id": "MCTWfOOG9opl"
   },
   "outputs": [],
   "source": [
    "from keras.applications.vgg16 import VGG16\n",
    "vgg_model = VGG16(input_shape=(500,500,3),include_top=False,weights='imagenet',pooling='max')\n",
    "for layer in vgg_model.layers:\n",
    "    layer.trainable=False"
   ]
  },
  {
   "cell_type": "code",
   "execution_count": 18,
   "metadata": {
    "id": "1Y3fV0VjwuM5"
   },
   "outputs": [],
   "source": [
    "from keras.layers import Dense, Dropout,Flatten\n",
    "from tensorflow.keras import Model\n",
    "x_2 = vgg_model.output\n",
    "\n",
    "predictions_2 = Dense(1,activation = \"sigmoid\")(x_2)\n",
    "vgg_model2= Model(vgg_model.input,predictions_2)\n",
    "# for layer in vgg_model2.layers:\n",
    "#     layer.trainable=False"
   ]
  },
  {
   "cell_type": "code",
   "execution_count": 19,
   "metadata": {
    "id": "UFKBfjb7-KEX"
   },
   "outputs": [],
   "source": [
    "from keras.callbacks import ModelCheckpoint, EarlyStopping, CSVLogger\n",
    "#'model-{epoch:03d}-{val_loss:03f}-{val_accuracy:03f}.h5', save_best_only='True',monitor = 'val_loss', mode='min'\n",
    "#mod = ModelCheckpoint('model-{epoch:03d}-{val_loss:03f}-{val_accuracy:03f}.h5', save_best_only='True',monitor='val_loss',mode='min')\n",
    "csvlog = CSVLogger('logs3.csv', separator=\",\", append=False)\n",
    "cll_bck = [csvlog]"
   ]
  },
  {
   "cell_type": "code",
   "execution_count": 20,
   "metadata": {
    "id": "dBcZq_G0wWoI"
   },
   "outputs": [],
   "source": [
    "vgg_model2.compile('rmsprop',loss='binary_crossentropy',metrics=['accuracy'])"
   ]
  },
  {
   "cell_type": "code",
   "execution_count": 21,
   "metadata": {
    "colab": {
     "base_uri": "https://localhost:8080/"
    },
    "id": "1hFZOMMv-Bm-",
    "outputId": "c65e00a3-170d-4fe5-a494-cc2d82a3f338"
   },
   "outputs": [
    {
     "name": "stdout",
     "output_type": "stream",
     "text": [
      "Epoch 1/20\n",
      "100/100 [==============================] - 322s 3s/step - loss: 0.5956 - accuracy: 0.7076 - val_loss: 0.5551 - val_accuracy: 0.7750\n",
      "Epoch 2/20\n",
      "100/100 [==============================] - 136s 1s/step - loss: 0.5067 - accuracy: 0.7942 - val_loss: 0.5147 - val_accuracy: 0.7733\n",
      "Epoch 3/20\n",
      "100/100 [==============================] - 113s 1s/step - loss: 0.4495 - accuracy: 0.8375 - val_loss: 0.4429 - val_accuracy: 0.8506\n",
      "Epoch 4/20\n",
      "100/100 [==============================] - 101s 1s/step - loss: 0.4037 - accuracy: 0.8613 - val_loss: 0.4127 - val_accuracy: 0.8453\n",
      "Epoch 5/20\n",
      "100/100 [==============================] - 97s 959ms/step - loss: 0.3697 - accuracy: 0.8789 - val_loss: 0.3852 - val_accuracy: 0.8752\n",
      "Epoch 6/20\n",
      "100/100 [==============================] - 93s 929ms/step - loss: 0.3451 - accuracy: 0.8800 - val_loss: 0.3630 - val_accuracy: 0.8787\n",
      "Epoch 7/20\n",
      "100/100 [==============================] - 92s 922ms/step - loss: 0.3156 - accuracy: 0.8897 - val_loss: 0.3534 - val_accuracy: 0.8770\n",
      "Epoch 8/20\n",
      "100/100 [==============================] - 93s 926ms/step - loss: 0.3015 - accuracy: 0.8939 - val_loss: 0.3358 - val_accuracy: 0.8910\n",
      "Epoch 9/20\n",
      "100/100 [==============================] - 93s 931ms/step - loss: 0.2851 - accuracy: 0.9008 - val_loss: 0.3272 - val_accuracy: 0.8893\n",
      "Epoch 10/20\n",
      "100/100 [==============================] - 94s 938ms/step - loss: 0.2739 - accuracy: 0.9025 - val_loss: 0.3183 - val_accuracy: 0.8946\n",
      "Epoch 11/20\n",
      "100/100 [==============================] - 94s 934ms/step - loss: 0.2743 - accuracy: 0.8939 - val_loss: 0.3065 - val_accuracy: 0.8998\n",
      "Epoch 12/20\n",
      "100/100 [==============================] - 94s 937ms/step - loss: 0.2724 - accuracy: 0.9092 - val_loss: 0.3010 - val_accuracy: 0.8981\n",
      "Epoch 13/20\n",
      "100/100 [==============================] - 93s 935ms/step - loss: 0.2710 - accuracy: 0.9073 - val_loss: 0.2947 - val_accuracy: 0.9016\n",
      "Epoch 14/20\n",
      "100/100 [==============================] - 93s 935ms/step - loss: 0.2483 - accuracy: 0.9117 - val_loss: 0.2886 - val_accuracy: 0.9051\n",
      "Epoch 15/20\n",
      "100/100 [==============================] - 93s 936ms/step - loss: 0.2490 - accuracy: 0.9100 - val_loss: 0.2846 - val_accuracy: 0.9086\n",
      "Epoch 16/20\n",
      "100/100 [==============================] - 93s 931ms/step - loss: 0.2456 - accuracy: 0.9067 - val_loss: 0.2807 - val_accuracy: 0.9051\n",
      "Epoch 17/20\n",
      "100/100 [==============================] - 94s 933ms/step - loss: 0.2279 - accuracy: 0.9242 - val_loss: 0.2815 - val_accuracy: 0.9069\n",
      "Epoch 18/20\n",
      "100/100 [==============================] - 94s 937ms/step - loss: 0.2384 - accuracy: 0.9140 - val_loss: 0.2885 - val_accuracy: 0.8910\n",
      "Epoch 19/20\n",
      "100/100 [==============================] - 94s 937ms/step - loss: 0.2231 - accuracy: 0.9208 - val_loss: 0.2733 - val_accuracy: 0.9051\n",
      "Epoch 20/20\n",
      "100/100 [==============================] - 95s 950ms/step - loss: 0.2143 - accuracy: 0.9292 - val_loss: 0.2678 - val_accuracy: 0.9104\n"
     ]
    }
   ],
   "source": [
    "vgg_history = vgg_model2.fit_generator(train1_set, validation_data = val1_set, steps_per_epoch = 100, epochs =20, callbacks=cll_bck)"
   ]
  },
  {
   "cell_type": "code",
   "execution_count": 22,
   "metadata": {
    "colab": {
     "base_uri": "https://localhost:8080/"
    },
    "id": "GPdELDON-fjh",
    "outputId": "3268bcd7-9621-4b89-9819-ca27ccab5136"
   },
   "outputs": [
    {
     "name": "stdout",
     "output_type": "stream",
     "text": [
      "Found 400 validated image filenames belonging to 2 classes.\n"
     ]
    }
   ],
   "source": [
    "test_datagen = ImageDataGenerator(rescale=(1/255))\n",
    "\n",
    "test_set = test_datagen.flow_from_dataframe(\n",
    "                                     dataframe = test,\n",
    "                                     directory = '/content/drive/MyDrive/ML Projects/Covid X-Ray Image Classification/test/test.zip (Unzipped Files)',\n",
    "                                          x_col = \"FileName\",\n",
    "                                          y_col=\"Status\",\n",
    "                                          batch_size=32,\n",
    "                                          class_mode = 'binary',\n",
    "                                          shuffle= True,\n",
    "                                       target_size = (500,500))"
   ]
  },
  {
   "cell_type": "code",
   "execution_count": 23,
   "metadata": {
    "id": "EW0UrpIJ-fji"
   },
   "outputs": [],
   "source": [
    "eval3 = vgg_model2.evaluate_generator(generator=test_set)"
   ]
  },
  {
   "cell_type": "code",
   "execution_count": 24,
   "metadata": {
    "colab": {
     "base_uri": "https://localhost:8080/"
    },
    "id": "TrZnYrISVLLc",
    "outputId": "ceda5685-4b7e-4725-dc8f-917146d0e3ae"
   },
   "outputs": [
    {
     "data": {
      "text/plain": [
       "[0.34371671080589294, 0.8500000238418579]"
      ]
     },
     "execution_count": 24,
     "metadata": {},
     "output_type": "execute_result"
    }
   ],
   "source": [
    "eval3"
   ]
  },
  {
   "cell_type": "code",
   "execution_count": 29,
   "metadata": {
    "id": "fohejMkW-fji"
   },
   "outputs": [],
   "source": [
    "update_score('VGG16',eval3[0],eval3[1])"
   ]
  },
  {
   "cell_type": "code",
   "execution_count": 30,
   "metadata": {
    "colab": {
     "base_uri": "https://localhost:8080/",
     "height": 81
    },
    "id": "_UKl-t1J-fji",
    "outputId": "594fdf73-b877-45a0-bfe0-b104053b9d0d"
   },
   "outputs": [
    {
     "data": {
      "text/html": [
       "<div>\n",
       "<style scoped>\n",
       "    .dataframe tbody tr th:only-of-type {\n",
       "        vertical-align: middle;\n",
       "    }\n",
       "\n",
       "    .dataframe tbody tr th {\n",
       "        vertical-align: top;\n",
       "    }\n",
       "\n",
       "    .dataframe thead th {\n",
       "        text-align: right;\n",
       "    }\n",
       "</style>\n",
       "<table border=\"1\" class=\"dataframe\">\n",
       "  <thead>\n",
       "    <tr style=\"text-align: right;\">\n",
       "      <th></th>\n",
       "      <th>Model</th>\n",
       "      <th>val_loss</th>\n",
       "      <th>val_accuracy</th>\n",
       "    </tr>\n",
       "  </thead>\n",
       "  <tbody>\n",
       "    <tr>\n",
       "      <th>0</th>\n",
       "      <td>VGG16</td>\n",
       "      <td>0.343717</td>\n",
       "      <td>0.85</td>\n",
       "    </tr>\n",
       "  </tbody>\n",
       "</table>\n",
       "</div>"
      ],
      "text/plain": [
       "   Model  val_loss  val_accuracy\n",
       "0  VGG16  0.343717          0.85"
      ]
     },
     "execution_count": 30,
     "metadata": {},
     "output_type": "execute_result"
    }
   ],
   "source": [
    "score"
   ]
  },
  {
   "cell_type": "code",
   "execution_count": 25,
   "metadata": {
    "id": "_aV1nl-H-fji"
   },
   "outputs": [],
   "source": [
    "cnn1_log = pd.read_csv('/content/logs3.csv')\n",
    "#cnn1_log"
   ]
  },
  {
   "cell_type": "code",
   "execution_count": 26,
   "metadata": {
    "colab": {
     "base_uri": "https://localhost:8080/",
     "height": 336
    },
    "id": "Wem2NUuk-fji",
    "outputId": "30b00ca4-a4d1-4851-b920-18cfe2f27ce0"
   },
   "outputs": [
    {
     "data": {
      "image/png": "[encoded data removed]",
      "text/plain": [
       "<Figure size 360x360 with 1 Axes>"
      ]
     },
     "metadata": {
      "needs_background": "light"
     },
     "output_type": "display_data"
    }
   ],
   "source": [
    "plt.figure(figsize=(5,5))\n",
    "plt.title('train_loss vs val_loss')\n",
    "plt.plot(cnn1_log.loss,label='train')\n",
    "plt.plot(cnn1_log.val_loss,label='val')\n",
    "plt.legend()\n",
    "plt.show()\n"
   ]
  },
  {
   "cell_type": "code",
   "execution_count": 27,
   "metadata": {
    "colab": {
     "base_uri": "https://localhost:8080/",
     "height": 336
    },
    "id": "P5zT6P9J-fjj",
    "outputId": "1d7c3ea7-87c5-41ca-8f0c-b973f8acd31f"
   },
   "outputs": [
    {
     "data": {
      "image/png": "[encoded data removed]",
      "text/plain": [
       "<Figure size 360x360 with 1 Axes>"
      ]
     },
     "metadata": {
      "needs_background": "light"
     },
     "output_type": "display_data"
    }
   ],
   "source": [
    "plt.figure(figsize=(5,5))\n",
    "plt.title('train_acc vs val_accuracy')\n",
    "plt.plot(cnn1_log.accuracy,label='train')\n",
    "plt.plot(cnn1_log.val_accuracy,label='val')\n",
    "plt.legend()\n",
    "plt.show()"
   ]
  }
 ],
 "metadata": {
  "accelerator": "GPU",
  "colab": {
   "collapsed_sections": [],
   "name": "COVID X-Ray Image Classification.ipynb",
   "provenance": []
  },
  "kernelspec": {
   "display_name": "Python 3",
   "language": "python",
   "name": "python3"
  },
  "language_info": {
   "codemirror_mode": {
    "name": "ipython",
    "version": 3
   },
   "file_extension": ".py",
   "mimetype": "text/x-python",
   "name": "python",
   "nbconvert_exporter": "python",
   "pygments_lexer": "ipython3",
   "version": "3.8.5"
  }
 },
 "nbformat": 4,
 "nbformat_minor": 1
}
